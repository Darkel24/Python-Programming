{
 "cells": [
  {
   "cell_type": "code",
   "execution_count": 5,
   "id": "73e0b0c4",
   "metadata": {},
   "outputs": [
    {
     "name": "stdout",
     "output_type": "stream",
     "text": [
      "[1, 2, 3, '100', 4, 5]\n",
      "[1, 2, 3, '100', 5]\n",
      "[1, 2, 3, '100', 5, '200']\n",
      "[]\n"
     ]
    }
   ],
   "source": [
    "m=[1,2,3,4,5]\n",
    "m.insert(3, '100')\n",
    "print(m)\n",
    "m.pop(4)\n",
    "print(m)\n",
    "m.append(\"200\")\n",
    "print(m)\n",
    "m.clear()\n",
    "print(m)"
   ]
  },
  {
   "cell_type": "code",
   "execution_count": null,
   "id": "fb7103c0",
   "metadata": {},
   "outputs": [],
   "source": []
  }
 ],
 "metadata": {
  "kernelspec": {
   "display_name": "Python 3 (ipykernel)",
   "language": "python",
   "name": "python3"
  },
  "language_info": {
   "codemirror_mode": {
    "name": "ipython",
    "version": 3
   },
   "file_extension": ".py",
   "mimetype": "text/x-python",
   "name": "python",
   "nbconvert_exporter": "python",
   "pygments_lexer": "ipython3",
   "version": "3.9.13"
  }
 },
 "nbformat": 4,
 "nbformat_minor": 5
}
