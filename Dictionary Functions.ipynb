{
 "cells": [
  {
   "cell_type": "code",
   "execution_count": 2,
   "id": "96d79371",
   "metadata": {},
   "outputs": [
    {
     "name": "stdout",
     "output_type": "stream",
     "text": [
      "200\n",
      "{1: 100, 2: 200, 3: 300, 4: 400}\n",
      "{1: 100, 2: 200, 4: 400}\n"
     ]
    }
   ],
   "source": [
    "D = {1: 100, 2: 200, 3: 300}\n",
    "print(D[2])  \n",
    "D[4] = 400\n",
    "print(D)\n",
    "del D[3]\n",
    "print(D)"
   ]
  },
  {
   "cell_type": "code",
   "execution_count": null,
   "id": "b662e4c6",
   "metadata": {},
   "outputs": [],
   "source": []
  }
 ],
 "metadata": {
  "kernelspec": {
   "display_name": "Python 3 (ipykernel)",
   "language": "python",
   "name": "python3"
  },
  "language_info": {
   "codemirror_mode": {
    "name": "ipython",
    "version": 3
   },
   "file_extension": ".py",
   "mimetype": "text/x-python",
   "name": "python",
   "nbconvert_exporter": "python",
   "pygments_lexer": "ipython3",
   "version": "3.9.13"
  }
 },
 "nbformat": 4,
 "nbformat_minor": 5
}
