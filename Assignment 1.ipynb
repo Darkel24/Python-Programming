{
 "cells": [
  {
   "cell_type": "code",
   "execution_count": 1,
   "id": "5fd5c5ff",
   "metadata": {},
   "outputs": [
    {
     "name": "stdout",
     "output_type": "stream",
     "text": [
      "Enter the Radius of the Circle:6\n",
      "The Area of The Circle is: 113.04\n"
     ]
    }
   ],
   "source": [
    "r=int(input(\"Enter the Radius of the Circle:\"))\n",
    "pi=3.14\n",
    "Area=pi*r**2\n",
    "print(\"The Area of The Circle is:\",Area)"
   ]
  },
  {
   "cell_type": "code",
   "execution_count": null,
   "id": "9fc6a30d",
   "metadata": {},
   "outputs": [],
   "source": []
  }
 ],
 "metadata": {
  "kernelspec": {
   "display_name": "Python 3 (ipykernel)",
   "language": "python",
   "name": "python3"
  },
  "language_info": {
   "codemirror_mode": {
    "name": "ipython",
    "version": 3
   },
   "file_extension": ".py",
   "mimetype": "text/x-python",
   "name": "python",
   "nbconvert_exporter": "python",
   "pygments_lexer": "ipython3",
   "version": "3.9.13"
  }
 },
 "nbformat": 4,
 "nbformat_minor": 5
}
