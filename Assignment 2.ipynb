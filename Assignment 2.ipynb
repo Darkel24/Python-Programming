{
 "cells": [
  {
   "cell_type": "code",
   "execution_count": 4,
   "id": "5fd5c5ff",
   "metadata": {},
   "outputs": [
    {
     "name": "stdout",
     "output_type": "stream",
     "text": [
      "Enter 1st Number:1\n",
      "Enter 2nd Number:1\n",
      "Enter 3rd Number:1\n",
      "The Sum of Three Numbers is: 3\n",
      "The Average of Three Numbers is: 1.0\n"
     ]
    }
   ],
   "source": [
    "a=int(input(\"Enter 1st Number:\"))\n",
    "b=int(input(\"Enter 2nd Number:\"))\n",
    "c=int(input(\"Enter 3rd Number:\"))\n",
    "Sum=a+b+c\n",
    "Avg=(a+b+c)/3\n",
    "print(\"The Sum of Three Numbers is:\",Sum)\n",
    "print(\"The Average of Three Numbers is:\",Avg)"
   ]
  },
  {
   "cell_type": "code",
   "execution_count": null,
   "id": "9fc6a30d",
   "metadata": {},
   "outputs": [],
   "source": []
  }
 ],
 "metadata": {
  "kernelspec": {
   "display_name": "Python 3 (ipykernel)",
   "language": "python",
   "name": "python3"
  },
  "language_info": {
   "codemirror_mode": {
    "name": "ipython",
    "version": 3
   },
   "file_extension": ".py",
   "mimetype": "text/x-python",
   "name": "python",
   "nbconvert_exporter": "python",
   "pygments_lexer": "ipython3",
   "version": "3.9.13"
  }
 },
 "nbformat": 4,
 "nbformat_minor": 5
}
