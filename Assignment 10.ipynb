{
 "cells": [
  {
   "cell_type": "code",
   "execution_count": 5,
   "id": "ad03b9eb",
   "metadata": {},
   "outputs": [
    {
     "name": "stdout",
     "output_type": "stream",
     "text": [
      "Hello My Name is Abhirup Mandal\n",
      "Hello My Name is Abhirup Mandal\n"
     ]
    }
   ],
   "source": [
    "with open('a.txt', 'r') as f:    \n",
    "    contents = f.read()\n",
    "print(contents)\n",
    "with open('b.txt', 'w') as f:\n",
    "    f.write(contents)\n",
    "with open('b.txt', 'r') as f:\n",
    "     contents_2 = f.read()\n",
    "print(contents_2)"
   ]
  },
  {
   "cell_type": "code",
   "execution_count": null,
   "id": "5bbf9856",
   "metadata": {},
   "outputs": [],
   "source": []
  }
 ],
 "metadata": {
  "kernelspec": {
   "display_name": "Python 3 (ipykernel)",
   "language": "python",
   "name": "python3"
  },
  "language_info": {
   "codemirror_mode": {
    "name": "ipython",
    "version": 3
   },
   "file_extension": ".py",
   "mimetype": "text/x-python",
   "name": "python",
   "nbconvert_exporter": "python",
   "pygments_lexer": "ipython3",
   "version": "3.9.13"
  }
 },
 "nbformat": 4,
 "nbformat_minor": 5
}
